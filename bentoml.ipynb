{
 "cells": [
  {
   "cell_type": "markdown",
   "id": "39d704f5",
   "metadata": {},
   "source": [
    "## Question 1: version 1.0.7"
   ]
  },
  {
   "cell_type": "markdown",
   "id": "d4975341",
   "metadata": {},
   "source": [
    "## Question 2: 114kb"
   ]
  },
  {
   "cell_type": "markdown",
   "id": "59794773",
   "metadata": {},
   "source": [
    "## Question 3:"
   ]
  },
  {
   "cell_type": "code",
   "execution_count": null,
   "id": "4d122658",
   "metadata": {},
   "outputs": [],
   "source": [
    "class UserProfile(BaseModel):\n",
    "    name: str\n",
    "    age: int\n",
    "    country: str\n",
    "    rating: float"
   ]
  },
  {
   "cell_type": "markdown",
   "id": "eccb0500",
   "metadata": {},
   "source": [
    "## Question 4: 1.1.1"
   ]
  },
  {
   "cell_type": "markdown",
   "id": "55d8b61e",
   "metadata": {},
   "source": [
    "## Question 5: 1"
   ]
  },
  {
   "cell_type": "markdown",
   "id": "2b89b8f8",
   "metadata": {},
   "source": [
    "## Question 6: first model has better performance at higher volumnes (lower average latency after same amount of requests)"
   ]
  }
 ],
 "metadata": {
  "kernelspec": {
   "display_name": "Python 3.9.6 64-bit",
   "language": "python",
   "name": "python3"
  },
  "language_info": {
   "codemirror_mode": {
    "name": "ipython",
    "version": 3
   },
   "file_extension": ".py",
   "mimetype": "text/x-python",
   "name": "python",
   "nbconvert_exporter": "python",
   "pygments_lexer": "ipython3",
   "version": "3.9.6"
  },
  "vscode": {
   "interpreter": {
    "hash": "c57c13d6cdfe51ff8d180f4561405584a5671ea8f1c85749a60cfe662cde5daa"
   }
  }
 },
 "nbformat": 4,
 "nbformat_minor": 5
}
